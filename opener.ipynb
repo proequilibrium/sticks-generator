{
 "cells": [
  {
   "cell_type": "code",
   "execution_count": 1,
   "metadata": {
    "ExecuteTime": {
     "end_time": "2020-05-31T11:49:23.575062Z",
     "start_time": "2020-05-31T11:49:23.566534Z"
    }
   },
   "outputs": [],
   "source": [
    "def get_stack(cell_vall):\n",
    "    return cell_vall[:3]\n",
    "\n",
    "\n",
    "def get_num_stacks(codes_list):\n",
    "    nums = {}\n",
    "    for stages in range(1, 4 * 5 + 1):\n",
    "        nums[stages] = 0\n",
    "    for codes in codes_list.values():\n",
    "        nums[len(codes)] += 1\n",
    "    return nums"
   ]
  },
  {
   "cell_type": "code",
   "execution_count": 2,
   "metadata": {
    "ExecuteTime": {
     "end_time": "2020-05-31T11:49:38.571326Z",
     "start_time": "2020-05-31T11:49:38.566981Z"
    }
   },
   "outputs": [],
   "source": [
    "import pickle"
   ]
  },
  {
   "cell_type": "code",
   "execution_count": 4,
   "metadata": {
    "ExecuteTime": {
     "end_time": "2020-05-31T11:51:06.124532Z",
     "start_time": "2020-05-31T11:51:06.118231Z"
    }
   },
   "outputs": [],
   "source": [
    "codes_list = pickle.load(open(\"dumped_codes\", \"rb\"))"
   ]
  },
  {
   "cell_type": "code",
   "execution_count": 5,
   "metadata": {
    "ExecuteTime": {
     "end_time": "2020-05-31T11:51:38.389315Z",
     "start_time": "2020-05-31T11:51:38.383355Z"
    }
   },
   "outputs": [],
   "source": [
    "stacks = get_num_stacks(codes_list)"
   ]
  },
  {
   "cell_type": "code",
   "execution_count": 16,
   "metadata": {
    "ExecuteTime": {
     "end_time": "2020-05-31T12:07:06.761441Z",
     "start_time": "2020-05-31T12:07:06.749537Z"
    }
   },
   "outputs": [],
   "source": [
    "used = list(filter(lambda x: x[1] > 0, stacks.items()))"
   ]
  },
  {
   "cell_type": "code",
   "execution_count": 17,
   "metadata": {
    "ExecuteTime": {
     "end_time": "2020-05-31T12:07:08.666135Z",
     "start_time": "2020-05-31T12:07:08.658838Z"
    }
   },
   "outputs": [
    {
     "data": {
      "text/plain": [
       "[(1, 26),\n",
       " (5, 29),\n",
       " (9, 34),\n",
       " (10, 19),\n",
       " (12, 18),\n",
       " (14, 19),\n",
       " (15, 477),\n",
       " (19, 1),\n",
       " (20, 6)]"
      ]
     },
     "execution_count": 17,
     "metadata": {},
     "output_type": "execute_result"
    }
   ],
   "source": [
    "used"
   ]
  },
  {
   "cell_type": "code",
   "execution_count": 11,
   "metadata": {
    "ExecuteTime": {
     "end_time": "2020-05-31T12:00:07.067287Z",
     "start_time": "2020-05-31T12:00:07.061366Z"
    }
   },
   "outputs": [],
   "source": [
    "def get_len_instances(len_val, codes_list):\n",
    "    for code_key, code_value in codes_list.items():\n",
    "        if len(code_value) == len_val:\n",
    "            print(code_key, \" ----\")\n",
    "            print(code_value)"
   ]
  },
  {
   "cell_type": "code",
   "execution_count": 24,
   "metadata": {
    "ExecuteTime": {
     "end_time": "2020-05-31T13:00:46.946658Z",
     "start_time": "2020-05-31T13:00:46.931229Z"
    }
   },
   "outputs": [
    {
     "name": "stdout",
     "output_type": "stream",
     "text": [
      "A22  ----\n",
      "['A22-01-05', 'A22-01-04', 'A22-01-03', 'A22-01-02', 'A22-01-01', 'A22-02-05', 'A22-02-04', 'A22-02-03', 'A22-02-02', 'A22-02-01', 'A22-03-05', 'A22-03-04', 'A22-03-03', 'A22-03-02']\n",
      "C31  ----\n",
      "['C31-01-05', 'C31-01-04', 'C31-01-03', 'C31-01-02', 'C31-02-05', 'C31-02-04', 'C31-02-03', 'C31-02-02', 'C31-02-01', 'C31-03-05', 'C31-03-04', 'C31-03-03', 'C31-03-02', 'C31-03-01']\n",
      "S35  ----\n",
      "['S35-01-05', 'S35-01-04', 'S35-01-03', 'S35-01-02', 'S35-01-01', 'S35-02-05', 'S35-02-04', 'S35-02-03', 'S35-02-02', 'S35-02-01', 'S35-03-05', 'S35-03-04', 'S35-03-03', 'S35-03-02']\n",
      "R35  ----\n",
      "['R35-01-05', 'R35-01-04', 'R35-01-03', 'R35-01-02', 'R35-01-01', 'R35-02-05', 'R35-02-04', 'R35-02-03', 'R35-02-02', 'R35-02-01', 'R35-03-05', 'R35-03-04', 'R35-03-03', 'R35-03-02']\n",
      "Q35  ----\n",
      "['Q35-01-05', 'Q35-01-04', 'Q35-01-03', 'Q35-01-02', 'Q35-01-01', 'Q35-02-05', 'Q35-02-04', 'Q35-02-03', 'Q35-02-02', 'Q35-02-01', 'Q35-03-05', 'Q35-03-04', 'Q35-03-03', 'Q35-03-02']\n",
      "P35  ----\n",
      "['P35-01-05', 'P35-01-04', 'P35-01-03', 'P35-01-02', 'P35-01-01', 'P35-02-05', 'P35-02-04', 'P35-02-03', 'P35-02-02', 'P35-02-01', 'P35-03-05', 'P35-03-04', 'P35-03-03', 'P35-03-02']\n",
      "O35  ----\n",
      "['O35-01-05', 'O35-01-04', 'O35-01-03', 'O35-01-02', 'O35-01-01', 'O35-02-05', 'O35-02-04', 'O35-02-03', 'O35-02-02', 'O35-02-01', 'O35-03-05', 'O35-03-04', 'O35-03-03', 'O35-03-02']\n",
      "N35  ----\n",
      "['N35-01-05', 'N35-01-04', 'N35-01-03', 'N35-01-02', 'N35-01-01', 'N35-02-05', 'N35-02-04', 'N35-02-03', 'N35-02-02', 'N35-02-01', 'N35-03-05', 'N35-03-04', 'N35-03-03', 'N35-03-02']\n",
      "M35  ----\n",
      "['M35-01-05', 'M35-01-04', 'M35-01-03', 'M35-01-02', 'M35-01-01', 'M35-02-05', 'M35-02-04', 'M35-02-03', 'M35-02-02', 'M35-02-01', 'M35-03-05', 'M35-03-04', 'M35-03-03', 'M35-03-02']\n",
      "L35  ----\n",
      "['L35-01-05', 'L35-01-04', 'L35-01-03', 'L35-01-02', 'L35-01-01', 'L35-02-05', 'L35-02-04', 'L35-02-03', 'L35-02-02', 'L35-02-01', 'L35-03-05', 'L35-03-04', 'L35-03-03', 'L35-03-02']\n",
      "K35  ----\n",
      "['K35-01-05', 'K35-01-04', 'K35-01-03', 'K35-01-02', 'K35-01-01', 'K35-02-05', 'K35-02-04', 'K35-02-03', 'K35-02-02', 'K35-02-01', 'K35-03-05', 'K35-03-04', 'K35-03-03', 'K35-03-02']\n",
      "J35  ----\n",
      "['J35-01-05', 'J35-01-04', 'J35-01-03', 'J35-01-02', 'J35-01-01', 'J35-02-05', 'J35-02-04', 'J35-02-03', 'J35-02-02', 'J35-02-01', 'J35-03-05', 'J35-03-04', 'J35-03-03', 'J35-03-02']\n",
      "I35  ----\n",
      "['I35-01-05', 'I35-01-04', 'I35-01-03', 'I35-01-02', 'I35-01-01', 'I35-02-05', 'I35-02-04', 'I35-02-03', 'I35-02-02', 'I35-02-01', 'I35-03-05', 'I35-03-04', 'I35-03-03', 'I35-03-02']\n",
      "H35  ----\n",
      "['H35-01-05', 'H35-01-04', 'H35-01-03', 'H35-01-02', 'H35-01-01', 'H35-02-05', 'H35-02-04', 'H35-02-03', 'H35-02-02', 'H35-02-01', 'H35-03-05', 'H35-03-04', 'H35-03-03', 'H35-03-02']\n",
      "G35  ----\n",
      "['G35-01-05', 'G35-01-04', 'G35-01-03', 'G35-01-02', 'G35-01-01', 'G35-02-05', 'G35-02-04', 'G35-02-03', 'G35-02-02', 'G35-02-01', 'G35-03-05', 'G35-03-04', 'G35-03-03', 'G35-03-02']\n",
      "F35  ----\n",
      "['F35-01-05', 'F35-01-04', 'F35-01-03', 'F35-01-02', 'F35-01-01', 'F35-02-05', 'F35-02-04', 'F35-02-03', 'F35-02-02', 'F35-02-01', 'F35-03-05', 'F35-03-04', 'F35-03-03', 'F35-03-02']\n",
      "E35  ----\n",
      "['E35-01-05', 'E35-01-04', 'E35-01-03', 'E35-01-02', 'E35-01-01', 'E35-02-05', 'E35-02-04', 'E35-02-03', 'E35-02-02', 'E35-02-01', 'E35-03-05', 'E35-03-04', 'E35-03-03', 'E35-03-02']\n",
      "D35  ----\n",
      "['D35-01-05', 'D35-01-04', 'D35-01-03', 'D35-01-02', 'D35-01-01', 'D35-02-05', 'D35-02-04', 'D35-02-03', 'D35-02-02', 'D35-02-01', 'D35-03-05', 'D35-03-04', 'D35-03-03', 'D35-03-02']\n",
      "C35  ----\n",
      "['C35-01-05', 'C35-01-04', 'C35-01-03', 'C35-01-02', 'C35-01-01', 'C35-02-05', 'C35-02-04', 'C35-02-03', 'C35-02-02', 'C35-02-01', 'C35-03-05', 'C35-03-04', 'C35-03-03', 'C35-03-02']\n"
     ]
    }
   ],
   "source": [
    "get_len_instances(14, codes_list)"
   ]
  },
  {
   "cell_type": "code",
   "execution_count": 20,
   "metadata": {
    "ExecuteTime": {
     "end_time": "2020-05-31T12:09:37.600344Z",
     "start_time": "2020-05-31T12:09:37.574939Z"
    }
   },
   "outputs": [
    {
     "ename": "TypeError",
     "evalue": "'int' object is not subscriptable",
     "output_type": "error",
     "traceback": [
      "\u001b[0;31m---------------------------------------------------------------------------\u001b[0m",
      "\u001b[0;31mTypeError\u001b[0m                                 Traceback (most recent call last)",
      "\u001b[0;32m<ipython-input-20-bf2bc3a62ab6>\u001b[0m in \u001b[0;36m<module>\u001b[0;34m\u001b[0m\n\u001b[1;32m      1\u001b[0m \u001b[0;32mfrom\u001b[0m \u001b[0mfunctools\u001b[0m \u001b[0;32mimport\u001b[0m \u001b[0mreduce\u001b[0m\u001b[0;34m\u001b[0m\u001b[0;34m\u001b[0m\u001b[0m\n\u001b[0;32m----> 2\u001b[0;31m \u001b[0mlist\u001b[0m\u001b[0;34m(\u001b[0m\u001b[0mreduce\u001b[0m\u001b[0;34m(\u001b[0m\u001b[0;32mlambda\u001b[0m \u001b[0mx\u001b[0m\u001b[0;34m,\u001b[0m \u001b[0my\u001b[0m\u001b[0;34m:\u001b[0m \u001b[0mx\u001b[0m\u001b[0;34m[\u001b[0m\u001b[0;36m1\u001b[0m\u001b[0;34m]\u001b[0m \u001b[0;34m+\u001b[0m \u001b[0my\u001b[0m\u001b[0;34m[\u001b[0m\u001b[0;36m1\u001b[0m\u001b[0;34m]\u001b[0m\u001b[0;34m,\u001b[0m \u001b[0mstacks\u001b[0m\u001b[0;34m.\u001b[0m\u001b[0mitems\u001b[0m\u001b[0;34m(\u001b[0m\u001b[0;34m)\u001b[0m\u001b[0;34m)\u001b[0m\u001b[0;34m)\u001b[0m\u001b[0;34m\u001b[0m\u001b[0;34m\u001b[0m\u001b[0m\n\u001b[0m",
      "\u001b[0;32m<ipython-input-20-bf2bc3a62ab6>\u001b[0m in \u001b[0;36m<lambda>\u001b[0;34m(x, y)\u001b[0m\n\u001b[1;32m      1\u001b[0m \u001b[0;32mfrom\u001b[0m \u001b[0mfunctools\u001b[0m \u001b[0;32mimport\u001b[0m \u001b[0mreduce\u001b[0m\u001b[0;34m\u001b[0m\u001b[0;34m\u001b[0m\u001b[0m\n\u001b[0;32m----> 2\u001b[0;31m \u001b[0mlist\u001b[0m\u001b[0;34m(\u001b[0m\u001b[0mreduce\u001b[0m\u001b[0;34m(\u001b[0m\u001b[0;32mlambda\u001b[0m \u001b[0mx\u001b[0m\u001b[0;34m,\u001b[0m \u001b[0my\u001b[0m\u001b[0;34m:\u001b[0m \u001b[0mx\u001b[0m\u001b[0;34m[\u001b[0m\u001b[0;36m1\u001b[0m\u001b[0;34m]\u001b[0m \u001b[0;34m+\u001b[0m \u001b[0my\u001b[0m\u001b[0;34m[\u001b[0m\u001b[0;36m1\u001b[0m\u001b[0;34m]\u001b[0m\u001b[0;34m,\u001b[0m \u001b[0mstacks\u001b[0m\u001b[0;34m.\u001b[0m\u001b[0mitems\u001b[0m\u001b[0;34m(\u001b[0m\u001b[0;34m)\u001b[0m\u001b[0;34m)\u001b[0m\u001b[0;34m)\u001b[0m\u001b[0;34m\u001b[0m\u001b[0;34m\u001b[0m\u001b[0m\n\u001b[0m",
      "\u001b[0;31mTypeError\u001b[0m: 'int' object is not subscriptable"
     ]
    }
   ],
   "source": [
    "from functools import reduce\n",
    "list(reduce(lambda x, y: , stacks.items()))"
   ]
  },
  {
   "cell_type": "code",
   "execution_count": 26,
   "metadata": {
    "ExecuteTime": {
     "end_time": "2020-05-31T21:33:41.131762Z",
     "start_time": "2020-05-31T21:33:41.124106Z"
    }
   },
   "outputs": [
    {
     "data": {
      "text/plain": [
       "82"
      ]
     },
     "execution_count": 26,
     "metadata": {},
     "output_type": "execute_result"
    }
   ],
   "source": [
    "formatek = (80, 70)\n",
    "formatek[0] + 2"
   ]
  },
  {
   "cell_type": "code",
   "execution_count": 36,
   "metadata": {
    "ExecuteTime": {
     "end_time": "2020-05-31T23:04:26.568621Z",
     "start_time": "2020-05-31T23:04:26.565414Z"
    }
   },
   "outputs": [],
   "source": [
    "cis = \"0001.1\""
   ]
  },
  {
   "cell_type": "code",
   "execution_count": 37,
   "metadata": {
    "ExecuteTime": {
     "end_time": "2020-05-31T23:04:26.986193Z",
     "start_time": "2020-05-31T23:04:26.972804Z"
    }
   },
   "outputs": [
    {
     "data": {
      "text/plain": [
       "1.1"
      ]
     },
     "execution_count": 37,
     "metadata": {},
     "output_type": "execute_result"
    }
   ],
   "source": [
    "float(cis)"
   ]
  },
  {
   "cell_type": "code",
   "execution_count": 49,
   "metadata": {
    "ExecuteTime": {
     "end_time": "2020-06-01T06:10:27.789498Z",
     "start_time": "2020-06-01T06:10:27.781739Z"
    }
   },
   "outputs": [],
   "source": [
    "def getFileNames(posLength):\n",
    "    import pickle\n",
    "\n",
    "    exportNames = []\n",
    "    codes_list = pickle.load(open(\"dumped_codes\", \"rb\"))\n",
    "    for keys, codes in codes_list.items():\n",
    "        if len(codes) == posLength:\n",
    "            exportNames.extend(codes)\n",
    "    return exportNames"
   ]
  },
  {
   "cell_type": "code",
   "execution_count": 57,
   "metadata": {
    "ExecuteTime": {
     "end_time": "2020-06-01T06:14:29.246155Z",
     "start_time": "2020-06-01T06:14:29.233924Z"
    }
   },
   "outputs": [
    {
     "data": {
      "text/plain": [
       "19"
      ]
     },
     "execution_count": 57,
     "metadata": {},
     "output_type": "execute_result"
    }
   ],
   "source": [
    "getFileNames(19).getFileNames()"
   ]
  }
 ],
 "metadata": {
  "kernelspec": {
   "display_name": "Python 3.8.5 ('base')",
   "language": "python",
   "name": "python3"
  },
  "language_info": {
   "codemirror_mode": {
    "name": "ipython",
    "version": 3
   },
   "file_extension": ".py",
   "mimetype": "text/x-python",
   "name": "python",
   "nbconvert_exporter": "python",
   "pygments_lexer": "ipython3",
   "version": "3.8.5"
  },
  "vscode": {
   "interpreter": {
    "hash": "3080d31468b9b23eaa54e055f4856526e9d4f9502ca2b4bc1500f1a66b0d04eb"
   }
  }
 },
 "nbformat": 4,
 "nbformat_minor": 2
}
